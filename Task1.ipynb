{
 "cells": [
  {
   "cell_type": "markdown",
   "id": "9fe35f97",
   "metadata": {},
   "source": [
    "# GRIP: THE SPARKS FOUNDATION"
   ]
  },
  {
   "cell_type": "markdown",
   "id": "b3b35b6c",
   "metadata": {},
   "source": [
    "# Data Science and Business Analytics Internship"
   ]
  },
  {
   "cell_type": "markdown",
   "id": "447ea8ce",
   "metadata": {},
   "source": [
    "# Task1: Prediction Using Supervised ML"
   ]
  },
  {
   "cell_type": "markdown",
   "id": "bf084518",
   "metadata": {},
   "source": [
    "## Submitted by Mayur Asnani"
   ]
  },
  {
   "cell_type": "code",
   "execution_count": 1,
   "id": "6b0615f0",
   "metadata": {},
   "outputs": [],
   "source": [
    "# we will predict the percentage of marks that a student is expected to score based upon the number of hours they studied"
   ]
  },
  {
   "cell_type": "code",
   "execution_count": 2,
   "id": "dd6491a8",
   "metadata": {},
   "outputs": [],
   "source": [
    "import pandas as pd\n",
    "import numpy as np\n",
    "import matplotlib.pyplot as plt"
   ]
  },
  {
   "cell_type": "code",
   "execution_count": 3,
   "id": "47d07c35",
   "metadata": {},
   "outputs": [],
   "source": [
    "# loading data\n",
    "\n",
    "url='http://bit.ly/w-data'\n",
    "data=pd.read_csv(url)"
   ]
  },
  {
   "cell_type": "code",
   "execution_count": 4,
   "id": "0f140458",
   "metadata": {},
   "outputs": [
    {
     "name": "stdout",
     "output_type": "stream",
     "text": [
      "Data imported :\n"
     ]
    },
    {
     "data": {
      "text/html": [
       "<div>\n",
       "<style scoped>\n",
       "    .dataframe tbody tr th:only-of-type {\n",
       "        vertical-align: middle;\n",
       "    }\n",
       "\n",
       "    .dataframe tbody tr th {\n",
       "        vertical-align: top;\n",
       "    }\n",
       "\n",
       "    .dataframe thead th {\n",
       "        text-align: right;\n",
       "    }\n",
       "</style>\n",
       "<table border=\"1\" class=\"dataframe\">\n",
       "  <thead>\n",
       "    <tr style=\"text-align: right;\">\n",
       "      <th></th>\n",
       "      <th>Hours</th>\n",
       "      <th>Scores</th>\n",
       "    </tr>\n",
       "  </thead>\n",
       "  <tbody>\n",
       "    <tr>\n",
       "      <th>0</th>\n",
       "      <td>2.5</td>\n",
       "      <td>21</td>\n",
       "    </tr>\n",
       "    <tr>\n",
       "      <th>1</th>\n",
       "      <td>5.1</td>\n",
       "      <td>47</td>\n",
       "    </tr>\n",
       "    <tr>\n",
       "      <th>2</th>\n",
       "      <td>3.2</td>\n",
       "      <td>27</td>\n",
       "    </tr>\n",
       "    <tr>\n",
       "      <th>3</th>\n",
       "      <td>8.5</td>\n",
       "      <td>75</td>\n",
       "    </tr>\n",
       "    <tr>\n",
       "      <th>4</th>\n",
       "      <td>3.5</td>\n",
       "      <td>30</td>\n",
       "    </tr>\n",
       "    <tr>\n",
       "      <th>5</th>\n",
       "      <td>1.5</td>\n",
       "      <td>20</td>\n",
       "    </tr>\n",
       "    <tr>\n",
       "      <th>6</th>\n",
       "      <td>9.2</td>\n",
       "      <td>88</td>\n",
       "    </tr>\n",
       "    <tr>\n",
       "      <th>7</th>\n",
       "      <td>5.5</td>\n",
       "      <td>60</td>\n",
       "    </tr>\n",
       "    <tr>\n",
       "      <th>8</th>\n",
       "      <td>8.3</td>\n",
       "      <td>81</td>\n",
       "    </tr>\n",
       "    <tr>\n",
       "      <th>9</th>\n",
       "      <td>2.7</td>\n",
       "      <td>25</td>\n",
       "    </tr>\n",
       "  </tbody>\n",
       "</table>\n",
       "</div>"
      ],
      "text/plain": [
       "   Hours  Scores\n",
       "0    2.5      21\n",
       "1    5.1      47\n",
       "2    3.2      27\n",
       "3    8.5      75\n",
       "4    3.5      30\n",
       "5    1.5      20\n",
       "6    9.2      88\n",
       "7    5.5      60\n",
       "8    8.3      81\n",
       "9    2.7      25"
      ]
     },
     "execution_count": 4,
     "metadata": {},
     "output_type": "execute_result"
    }
   ],
   "source": [
    "print('Data imported :')\n",
    "data.head(10)"
   ]
  },
  {
   "cell_type": "code",
   "execution_count": 5,
   "id": "acd5fcc5",
   "metadata": {},
   "outputs": [],
   "source": [
    "# preparing data\n",
    "\n",
    "x=data.iloc[:,0]\n",
    "y=data.iloc[:,-1]"
   ]
  },
  {
   "cell_type": "code",
   "execution_count": 6,
   "id": "2dafd4e8",
   "metadata": {},
   "outputs": [],
   "source": [
    "# converting into numpy array\n",
    "\n",
    "x=x.values\n",
    "y=y.values"
   ]
  },
  {
   "cell_type": "code",
   "execution_count": 7,
   "id": "51364521",
   "metadata": {},
   "outputs": [],
   "source": [
    "# normalising x values\n",
    "\n",
    "u=x.mean()\n",
    "std=x.std()\n",
    "x=(x-u)/std"
   ]
  },
  {
   "cell_type": "code",
   "execution_count": 8,
   "id": "86233f45",
   "metadata": {},
   "outputs": [
    {
     "data": {
      "image/png": "[encoded data removed]",
      "text/plain": [
       "<Figure size 576x396 with 1 Axes>"
      ]
     },
     "metadata": {},
     "output_type": "display_data"
    }
   ],
   "source": [
    "# visualise\n",
    "plt.style.use('seaborn')\n",
    "plt.scatter(x,y,color='orange',label='score')\n",
    "plt.title('Hours vs Percentage')\n",
    "plt.legend()\n",
    "plt.xlabel('Hours')\n",
    "plt.ylabel('Percentage')\n",
    "plt.show()"
   ]
  },
  {
   "cell_type": "code",
   "execution_count": 9,
   "id": "a3342658",
   "metadata": {},
   "outputs": [
    {
     "name": "stdout",
     "output_type": "stream",
     "text": [
      "(25,) (25,)\n"
     ]
    }
   ],
   "source": [
    "print(x.shape,y.shape)"
   ]
  },
  {
   "cell_type": "code",
   "execution_count": 10,
   "id": "44e4e34d",
   "metadata": {},
   "outputs": [],
   "source": [
    "# splitting our data into training and testing\n",
    "\n",
    "from sklearn.model_selection import train_test_split  \n",
    "x_train, x_test, y_train, y_test = train_test_split(x,y,test_size=0.2) "
   ]
  },
  {
   "cell_type": "code",
   "execution_count": 11,
   "id": "e0dcebe7",
   "metadata": {},
   "outputs": [
    {
     "name": "stdout",
     "output_type": "stream",
     "text": [
      "(20,) (20,)\n",
      "(5,) (5,)\n"
     ]
    }
   ],
   "source": [
    "print(x_train.shape,y_train.shape)\n",
    "print(x_test.shape,y_test.shape)"
   ]
  },
  {
   "cell_type": "markdown",
   "id": "db4e41ce",
   "metadata": {},
   "source": [
    "# Linear Regression"
   ]
  },
  {
   "cell_type": "code",
   "execution_count": 12,
   "id": "c6b7e95d",
   "metadata": {},
   "outputs": [],
   "source": [
    "# function 1- hypothesis\n",
    "\n",
    "def hypothesis(x,theta):\n",
    "    y_=theta[0]+theta[1]*x\n",
    "    return y_\n",
    "\n",
    "# function 2- calculates gradient for theta0 and theta1\n",
    "\n",
    "def gradient(x,y,theta):\n",
    "    m=x.shape[0]\n",
    "    # initially\n",
    "    grad=np.zeros((2,))\n",
    "    for i in range(m):\n",
    "        y_=hypothesis(x[i],theta)\n",
    "        grad[0]+=(y_-y[i])\n",
    "        grad[1]+=(y_-y[i])*x[i]\n",
    "        \n",
    "    return grad/m\n",
    "\n",
    "# function 3- calculates error/loss function- j(theta)\n",
    "\n",
    "def error(x,y,theta):\n",
    "    m=x.shape[0]\n",
    "    total_error=0.0\n",
    "    for i in range(m):\n",
    "        y_=hypothesis(x[i],theta)\n",
    "        total_error+=(y_-y[i])**2\n",
    "    return total_error/m\n",
    "\n",
    "# function 4- gradient descent func\n",
    "\n",
    "def gradientDescent(x,y,max_steps=100,lr=0.1):\n",
    "    theta=np.zeros((2,))\n",
    "    error_list=[]\n",
    "    theta_list=[]\n",
    "    \n",
    "    for i in range(max_steps):\n",
    "        # compute gradient\n",
    "        grad=gradient(x,y,theta)\n",
    "        # compute error\n",
    "        e=error(x,y,theta)\n",
    "        error_list.append(e)\n",
    "        # update theta\n",
    "        theta[0]=theta[0]-lr*grad[0]\n",
    "        theta[1]=theta[1]-lr*grad[1]\n",
    "        theta_list.append((theta[0],theta[1]))\n",
    "    return theta,error_list,theta_list\n",
    "\n"
   ]
  },
  {
   "cell_type": "code",
   "execution_count": 13,
   "id": "4d60d302",
   "metadata": {},
   "outputs": [],
   "source": [
    "theta,error_list,theta_list=gradientDescent(x_train,y_train)"
   ]
  },
  {
   "cell_type": "code",
   "execution_count": 14,
   "id": "0d05d432",
   "metadata": {},
   "outputs": [
    {
     "name": "stdout",
     "output_type": "stream",
     "text": [
      "[51.49777514 25.58570514]\n"
     ]
    }
   ],
   "source": [
    "print(theta)"
   ]
  },
  {
   "cell_type": "code",
   "execution_count": 15,
   "id": "b97be2c5",
   "metadata": {},
   "outputs": [
    {
     "name": "stdout",
     "output_type": "stream",
     "text": [
      "[3535.15, 2828.0439324338727, 2263.488127244841, 1812.7169735488926, 1452.7743993161905, 1165.3397298134905, 935.7909922674316, 752.4576229332185, 606.0242580745119, 489.0550462714938, 395.6141049170328, 320.96267684178713, 261.3174773816103, 213.65786012799217, 175.57193237170725, 145.13374747597905, 120.80529366076955, 101.35826873319309, 85.81164338472882, 73.38182380924164, 63.442869059168046, 55.49473283354776, 49.137909665750655, 44.05319279414099, 39.98551213917482, 36.73102916206183, 34.126831620405014, 32.042703881718616, 30.374554299703068, 29.039165619490113, 27.97000177939853, 27.113858266354573, 26.428186110904335, 25.878953870273534, 25.438939295069908, 25.086364203867596, 24.80380351459108, 24.57731329160382, 24.39573377227778, 24.250132202784318, 24.133357391734755, 24.03968354268169, 23.964525440129048, 23.904210668248865, 23.855797420265723, 23.8169287557542, 23.78571599967953, 23.760645444128777, 23.740503685743587, 23.72431786829612, 23.711307848081375, 23.70084789770915, 23.692436041708426, 23.685669499262893, 23.680225014660074, 23.6758431000667, 23.672315410341756, 23.669474625594297, 23.667186341936848, 23.66534257064894, 23.66385652576205, 23.662658443909308, 23.661692231351786, 23.660912773956607, 23.660283778602004, 23.65977604065672, 23.65936605313213, 23.65903488987738, 23.658767308618884, 23.658551030400055, 23.658376160592518, 23.658234723550564, 23.65812028851085, 23.658027668769638, 23.65795267972191, 23.657891944193786, 23.65784273578212, 23.657802852746695, 23.657770516467796, 23.6577442896613, 23.657723010487604, 23.65770573945026, 23.65769171658923, 23.657680326962286, 23.657671072801545, 23.65766355104713, 23.6576574352142, 23.657652460752217, 23.65764841322083, 23.657645118736774, 23.65764243625355, 23.657640251319588, 23.65763847103083, 23.657637019947146, 23.657635836787538, 23.657634871755086, 23.6576340843704, 23.657633441716445, 23.6576329170163, 23.65763248848018]\n"
     ]
    }
   ],
   "source": [
    "print(error_list)"
   ]
  },
  {
   "cell_type": "code",
   "execution_count": 16,
   "id": "e286960a",
   "metadata": {},
   "outputs": [
    {
     "data": {
      "image/png": "[encoded data removed]",
      "text/plain": [
       "<Figure size 576x396 with 1 Axes>"
      ]
     },
     "metadata": {},
     "output_type": "display_data"
    }
   ],
   "source": [
    "# visualising error\n",
    "\n",
    "plt.plot(error_list)\n",
    "plt.show()\n",
    "# error is reducing\n"
   ]
  },
  {
   "cell_type": "code",
   "execution_count": 17,
   "id": "02b9a450",
   "metadata": {},
   "outputs": [
    {
     "name": "stdout",
     "output_type": "stream",
     "text": [
      "[60.68104148 32.75894789 71.02255762 49.30537372 62.74934471 94.80804474\n",
      " 25.51988659 19.31497691 27.58818982 56.54443502 80.32992215 85.50068022\n",
      " 38.96385758 11.041764   35.86140274 27.58818982 76.19331569 79.29577053\n",
      " 46.20291888 91.7055899 ]\n"
     ]
    }
   ],
   "source": [
    "# making predictions and best line\n",
    "\n",
    "y_=hypothesis(x_train,theta)\n",
    "print(y_)"
   ]
  },
  {
   "cell_type": "code",
   "execution_count": 18,
   "id": "2aa117c7",
   "metadata": {},
   "outputs": [
    {
     "data": {
      "image/png": "[encoded data removed]",
      "text/plain": [
       "<Figure size 576x396 with 1 Axes>"
      ]
     },
     "metadata": {},
     "output_type": "display_data"
    }
   ],
   "source": [
    "# best fit line\n",
    "\n",
    "plt.scatter(x_train,y_train)\n",
    "plt.plot(x_train,y_,color='orange',label='prediction')\n",
    "plt.legend()\n",
    "plt.show()"
   ]
  },
  {
   "cell_type": "code",
   "execution_count": 19,
   "id": "b94be29a",
   "metadata": {},
   "outputs": [
    {
     "name": "stdout",
     "output_type": "stream",
     "text": [
      "96.3981970702551\n"
     ]
    }
   ],
   "source": [
    "# calculating accuracy\n",
    "\n",
    "def r2_score(y,y_):\n",
    "    # numerator\n",
    "    num=np.sum((y-y_)**2)\n",
    "    # denomenator\n",
    "    denom=np.sum((y-y.mean())**2)\n",
    "    # score\n",
    "    score=1-num/denom\n",
    "    return score*100\n",
    "\n",
    "print(r2_score(y_train,y_))  # 95% accurate\n"
   ]
  },
  {
   "cell_type": "code",
   "execution_count": null,
   "id": "54903bee",
   "metadata": {},
   "outputs": [],
   "source": [
    "# testing the data"
   ]
  },
  {
   "cell_type": "code",
   "execution_count": 28,
   "id": "db39817b",
   "metadata": {},
   "outputs": [
    {
     "name": "stdout",
     "output_type": "stream",
     "text": [
      "[33.79309951 52.40782856 15.17837045 87.56898345 25.51988659]\n"
     ]
    }
   ],
   "source": [
    "ypred=hypothesis(x_test,theta)\n",
    "print(ypred)"
   ]
  },
  {
   "cell_type": "code",
   "execution_count": 26,
   "id": "413ef056",
   "metadata": {},
   "outputs": [],
   "source": [
    "df=pd.DataFrame(y_test,columns=['Actual'])\n",
    "df['Predicted']=ypred"
   ]
  },
  {
   "cell_type": "code",
   "execution_count": 27,
   "id": "1d3d104f",
   "metadata": {},
   "outputs": [
    {
     "data": {
      "text/html": [
       "<div>\n",
       "<style scoped>\n",
       "    .dataframe tbody tr th:only-of-type {\n",
       "        vertical-align: middle;\n",
       "    }\n",
       "\n",
       "    .dataframe tbody tr th {\n",
       "        vertical-align: top;\n",
       "    }\n",
       "\n",
       "    .dataframe thead th {\n",
       "        text-align: right;\n",
       "    }\n",
       "</style>\n",
       "<table border=\"1\" class=\"dataframe\">\n",
       "  <thead>\n",
       "    <tr style=\"text-align: right;\">\n",
       "      <th></th>\n",
       "      <th>Actual</th>\n",
       "      <th>Predicted</th>\n",
       "    </tr>\n",
       "  </thead>\n",
       "  <tbody>\n",
       "    <tr>\n",
       "      <th>0</th>\n",
       "      <td>42</td>\n",
       "      <td>33.793100</td>\n",
       "    </tr>\n",
       "    <tr>\n",
       "      <th>1</th>\n",
       "      <td>47</td>\n",
       "      <td>52.407829</td>\n",
       "    </tr>\n",
       "    <tr>\n",
       "      <th>2</th>\n",
       "      <td>20</td>\n",
       "      <td>15.178370</td>\n",
       "    </tr>\n",
       "    <tr>\n",
       "      <th>3</th>\n",
       "      <td>75</td>\n",
       "      <td>87.568983</td>\n",
       "    </tr>\n",
       "    <tr>\n",
       "      <th>4</th>\n",
       "      <td>30</td>\n",
       "      <td>25.519887</td>\n",
       "    </tr>\n",
       "  </tbody>\n",
       "</table>\n",
       "</div>"
      ],
      "text/plain": [
       "   Actual  Predicted\n",
       "0      42  33.793100\n",
       "1      47  52.407829\n",
       "2      20  15.178370\n",
       "3      75  87.568983\n",
       "4      30  25.519887"
      ]
     },
     "execution_count": 27,
     "metadata": {},
     "output_type": "execute_result"
    }
   ],
   "source": [
    "df"
   ]
  },
  {
   "cell_type": "code",
   "execution_count": 52,
   "id": "1746cf72",
   "metadata": {},
   "outputs": [
    {
     "name": "stdout",
     "output_type": "stream",
     "text": [
      "enter number of hours per day? 9.25\n",
      "No of hours :  9.25\n",
      "Predicted score :  95.32512055179693\n"
     ]
    }
   ],
   "source": [
    "# training our own data\n",
    "\n",
    "hour=float(input('enter number of hours per day? '))\n",
    "\n",
    "print('No of hours : ',hour)\n",
    "\n",
    "\n",
    "# normalising hour\n",
    "\n",
    "hour=(hour-u)/std\n",
    "\n",
    "pred_y=hypothesis(hour,theta)\n",
    "\n",
    "print('Predicted score : ',pred_y)"
   ]
  },
  {
   "cell_type": "code",
   "execution_count": null,
   "id": "bf42fe93",
   "metadata": {},
   "outputs": [],
   "source": []
  }
 ],
 "metadata": {
  "kernelspec": {
   "display_name": "Python 3",
   "language": "python",
   "name": "python3"
  },
  "language_info": {
   "codemirror_mode": {
    "name": "ipython",
    "version": 3
   },
   "file_extension": ".py",
   "mimetype": "text/x-python",
   "name": "python",
   "nbconvert_exporter": "python",
   "pygments_lexer": "ipython3",
   "version": "3.8.8"
  }
 },
 "nbformat": 4,
 "nbformat_minor": 5
}
